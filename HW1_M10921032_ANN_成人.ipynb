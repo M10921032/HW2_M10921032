{
  "nbformat": 4,
  "nbformat_minor": 0,
  "metadata": {
    "colab": {
      "name": "類神經網路成人.ipynb",
      "provenance": []
    },
    "kernelspec": {
      "display_name": "Python 3",
      "name": "python3"
    }
  },
  "cells": [
    {
      "cell_type": "code",
      "metadata": {
        "id": "hZ3vmbY0NPP7"
      },
      "source": [
        "import pandas as pd  \n",
        "import numpy as np  \n",
        "import tensorflow as tf  \n",
        "from sklearn.metrics import explained_variance_score,mean_absolute_error,median_absolute_error\n",
        "from sklearn.model_selection import train_test_split\n",
        "from sklearn.feature_extraction import DictVectorizer"
      ],
      "execution_count": 64,
      "outputs": []
    },
    {
      "cell_type": "code",
      "metadata": {
        "colab": {
          "base_uri": "https://localhost:8080/"
        },
        "id": "VDGkN-68NQye",
        "outputId": "42cb82c8-5505-415d-d81a-9a08c218014f"
      },
      "source": [
        "from google.colab import files\n",
        "!gdown --id '106s-Vmb7q0EWPKytR50Es0UBwEQylFH1' --output dataset\n",
        "!ls"
      ],
      "execution_count": 65,
      "outputs": [
        {
          "output_type": "stream",
          "text": [
            "Downloading...\n",
            "From: https://drive.google.com/uc?id=106s-Vmb7q0EWPKytR50Es0UBwEQylFH1\n",
            "To: /content/dataset\n",
            "\r  0% 0.00/1.33M [00:00<?, ?B/s]\r100% 1.33M/1.33M [00:00<00:00, 87.7MB/s]\n",
            "dataset  sample_data\n"
          ],
          "name": "stdout"
        }
      ]
    },
    {
      "cell_type": "code",
      "metadata": {
        "colab": {
          "base_uri": "https://localhost:8080/",
          "height": 197
        },
        "id": "9X-YSzjX12y4",
        "outputId": "51ea1e51-e146-49ca-c8e4-db0ebac660d0"
      },
      "source": [
        "import pandas as pd\n",
        "import numpy as np\n",
        "data = pd.read_csv('dataset')\n",
        "data.head()"
      ],
      "execution_count": 66,
      "outputs": [
        {
          "output_type": "execute_result",
          "data": {
            "text/html": [
              "<div>\n",
              "<style scoped>\n",
              "    .dataframe tbody tr th:only-of-type {\n",
              "        vertical-align: middle;\n",
              "    }\n",
              "\n",
              "    .dataframe tbody tr th {\n",
              "        vertical-align: top;\n",
              "    }\n",
              "\n",
              "    .dataframe thead th {\n",
              "        text-align: right;\n",
              "    }\n",
              "</style>\n",
              "<table border=\"1\" class=\"dataframe\">\n",
              "  <thead>\n",
              "    <tr style=\"text-align: right;\">\n",
              "      <th></th>\n",
              "      <th>age</th>\n",
              "      <th>workclass</th>\n",
              "      <th>fnlwgt</th>\n",
              "      <th>education</th>\n",
              "      <th>education_num</th>\n",
              "      <th>marital_status</th>\n",
              "      <th>occupation</th>\n",
              "      <th>relationship</th>\n",
              "      <th>race</th>\n",
              "      <th>sex</th>\n",
              "      <th>capital_gain</th>\n",
              "      <th>capital_loss</th>\n",
              "      <th>hours_per_week</th>\n",
              "      <th>native_country</th>\n",
              "      <th>salary</th>\n",
              "    </tr>\n",
              "  </thead>\n",
              "  <tbody>\n",
              "    <tr>\n",
              "      <th>0</th>\n",
              "      <td>39</td>\n",
              "      <td>7</td>\n",
              "      <td>77516</td>\n",
              "      <td>9</td>\n",
              "      <td>13</td>\n",
              "      <td>4</td>\n",
              "      <td>1</td>\n",
              "      <td>1</td>\n",
              "      <td>4</td>\n",
              "      <td>1</td>\n",
              "      <td>2174</td>\n",
              "      <td>0</td>\n",
              "      <td>40</td>\n",
              "      <td>39</td>\n",
              "      <td>0</td>\n",
              "    </tr>\n",
              "    <tr>\n",
              "      <th>1</th>\n",
              "      <td>50</td>\n",
              "      <td>6</td>\n",
              "      <td>83311</td>\n",
              "      <td>9</td>\n",
              "      <td>13</td>\n",
              "      <td>2</td>\n",
              "      <td>4</td>\n",
              "      <td>0</td>\n",
              "      <td>4</td>\n",
              "      <td>1</td>\n",
              "      <td>0</td>\n",
              "      <td>0</td>\n",
              "      <td>13</td>\n",
              "      <td>39</td>\n",
              "      <td>0</td>\n",
              "    </tr>\n",
              "    <tr>\n",
              "      <th>2</th>\n",
              "      <td>38</td>\n",
              "      <td>4</td>\n",
              "      <td>215646</td>\n",
              "      <td>11</td>\n",
              "      <td>9</td>\n",
              "      <td>0</td>\n",
              "      <td>6</td>\n",
              "      <td>1</td>\n",
              "      <td>4</td>\n",
              "      <td>1</td>\n",
              "      <td>0</td>\n",
              "      <td>0</td>\n",
              "      <td>40</td>\n",
              "      <td>39</td>\n",
              "      <td>0</td>\n",
              "    </tr>\n",
              "    <tr>\n",
              "      <th>3</th>\n",
              "      <td>53</td>\n",
              "      <td>4</td>\n",
              "      <td>234721</td>\n",
              "      <td>1</td>\n",
              "      <td>7</td>\n",
              "      <td>2</td>\n",
              "      <td>6</td>\n",
              "      <td>0</td>\n",
              "      <td>2</td>\n",
              "      <td>1</td>\n",
              "      <td>0</td>\n",
              "      <td>0</td>\n",
              "      <td>40</td>\n",
              "      <td>39</td>\n",
              "      <td>0</td>\n",
              "    </tr>\n",
              "    <tr>\n",
              "      <th>4</th>\n",
              "      <td>28</td>\n",
              "      <td>4</td>\n",
              "      <td>338409</td>\n",
              "      <td>9</td>\n",
              "      <td>13</td>\n",
              "      <td>2</td>\n",
              "      <td>10</td>\n",
              "      <td>5</td>\n",
              "      <td>2</td>\n",
              "      <td>0</td>\n",
              "      <td>0</td>\n",
              "      <td>0</td>\n",
              "      <td>40</td>\n",
              "      <td>5</td>\n",
              "      <td>0</td>\n",
              "    </tr>\n",
              "  </tbody>\n",
              "</table>\n",
              "</div>"
            ],
            "text/plain": [
              "   age  workclass  fnlwgt  ...  hours_per_week  native_country  salary\n",
              "0   39          7   77516  ...              40              39       0\n",
              "1   50          6   83311  ...              13              39       0\n",
              "2   38          4  215646  ...              40              39       0\n",
              "3   53          4  234721  ...              40              39       0\n",
              "4   28          4  338409  ...              40               5       0\n",
              "\n",
              "[5 rows x 15 columns]"
            ]
          },
          "metadata": {
            "tags": []
          },
          "execution_count": 66
        }
      ]
    },
    {
      "cell_type": "code",
      "metadata": {
        "id": "_p3UqKCVNX_u"
      },
      "source": [
        "X=data.drop('salary',axis=1)\n",
        "y=data['salary']"
      ],
      "execution_count": 67,
      "outputs": []
    },
    {
      "cell_type": "code",
      "metadata": {
        "id": "0oaXrX_4D5Zy"
      },
      "source": [
        "vec_y=DictVectorizer(sparse=False)"
      ],
      "execution_count": 68,
      "outputs": []
    },
    {
      "cell_type": "code",
      "metadata": {
        "id": "w3X51WyuQDcX"
      },
      "source": [
        "target = data[['salary']]"
      ],
      "execution_count": 69,
      "outputs": []
    },
    {
      "cell_type": "code",
      "metadata": {
        "colab": {
          "base_uri": "https://localhost:8080/"
        },
        "id": "jDDUuE83D8tH",
        "outputId": "69c2cc93-64b8-4d16-fc8c-6be47d8719fc"
      },
      "source": [
        "y = vec_y.fit_transform(target.to_dict(orient='record'))"
      ],
      "execution_count": 70,
      "outputs": [
        {
          "output_type": "stream",
          "text": [
            "/usr/local/lib/python3.6/dist-packages/pandas/core/frame.py:1490: FutureWarning: Using short name for 'orient' is deprecated. Only the options: ('dict', list, 'series', 'split', 'records', 'index') will be used in a future version. Use one of the above to silence this warning.\n",
            "  FutureWarning,\n"
          ],
          "name": "stderr"
        }
      ]
    },
    {
      "cell_type": "code",
      "metadata": {
        "colab": {
          "base_uri": "https://localhost:8080/"
        },
        "id": "S_gs9RZyPDk-",
        "outputId": "c985cf3a-0ede-447e-9e9c-d3b12029ca0a"
      },
      "source": [
        "print(y)"
      ],
      "execution_count": 71,
      "outputs": [
        {
          "output_type": "stream",
          "text": [
            "[[0.]\n",
            " [0.]\n",
            " [0.]\n",
            " ...\n",
            " [0.]\n",
            " [0.]\n",
            " [1.]]\n"
          ],
          "name": "stdout"
        }
      ]
    },
    {
      "cell_type": "code",
      "metadata": {
        "id": "vUEfM-sBQQtf"
      },
      "source": [
        "X_train, X_test, y_train, y_test = train_test_split(X, y, test_size=0.2, random_state=0)"
      ],
      "execution_count": 72,
      "outputs": []
    },
    {
      "cell_type": "code",
      "metadata": {
        "id": "WbE238ASEGoy"
      },
      "source": [
        "from keras import utils as np_utils\n",
        "y_train_onehot = np_utils.to_categorical(y_train)  \n",
        "y_test_onehot = np_utils.to_categorical(y_test)\n",
        "X_train_normalize=X_train/255  #標準化\n",
        "X_test_normalize=X_test/255\n"
      ],
      "execution_count": 74,
      "outputs": []
    },
    {
      "cell_type": "code",
      "metadata": {
        "colab": {
          "base_uri": "https://localhost:8080/"
        },
        "id": "SROZ8cPi-jT9",
        "outputId": "6b34dade-c117-403d-cc98-f36feff0a91f"
      },
      "source": [
        "print(y_test_onehot)"
      ],
      "execution_count": 75,
      "outputs": [
        {
          "output_type": "stream",
          "text": [
            "[[1. 0.]\n",
            " [1. 0.]\n",
            " [1. 0.]\n",
            " ...\n",
            " [0. 1.]\n",
            " [1. 0.]\n",
            " [0. 1.]]\n"
          ],
          "name": "stdout"
        }
      ]
    },
    {
      "cell_type": "code",
      "metadata": {
        "id": "DJ6eewIVN-Zc"
      },
      "source": [
        "from keras.utils import np_utils"
      ],
      "execution_count": 76,
      "outputs": []
    },
    {
      "cell_type": "code",
      "metadata": {
        "id": "F3_CgFbZObCc"
      },
      "source": [
        "from keras.models import Sequential\n",
        "from keras.layers import Dense,Activation\n",
        "from keras.optimizers import SGD"
      ],
      "execution_count": 77,
      "outputs": []
    },
    {
      "cell_type": "code",
      "metadata": {
        "id": "4qXcIo3JRuex"
      },
      "source": [
        "model = Sequential()"
      ],
      "execution_count": 85,
      "outputs": []
    },
    {
      "cell_type": "code",
      "metadata": {
        "id": "URvCQn2xRvnO"
      },
      "source": [
        "model.add(Dense(500,input_dim=14))\n",
        "model.add(Activation('sigmoid'))"
      ],
      "execution_count": 86,
      "outputs": []
    },
    {
      "cell_type": "code",
      "metadata": {
        "id": "MKFSlX_lR7Px"
      },
      "source": [
        "model.add(Dense(500))\n",
        "model.add(Activation('sigmoid'))"
      ],
      "execution_count": 87,
      "outputs": []
    },
    {
      "cell_type": "code",
      "metadata": {
        "id": "y0yoONgER_jk"
      },
      "source": [
        "model.add(Dense(2))\n",
        "model.add(Activation('softmax'))\n"
      ],
      "execution_count": 88,
      "outputs": []
    },
    {
      "cell_type": "code",
      "metadata": {
        "id": "ffejm45sSBH9"
      },
      "source": [
        "model.compile(loss='mse',optimizer=SGD(learning_rate=0.2),metrics=['accuracy'])"
      ],
      "execution_count": 89,
      "outputs": []
    },
    {
      "cell_type": "code",
      "metadata": {
        "colab": {
          "base_uri": "https://localhost:8080/"
        },
        "id": "n4rxZ-78SCfD",
        "outputId": "c92e5302-c993-45bf-de54-f9aeccf05cd9"
      },
      "source": [
        "model.fit(X_train,y_train_onehot, batch_size=300,epochs=20)"
      ],
      "execution_count": 90,
      "outputs": [
        {
          "output_type": "stream",
          "text": [
            "Epoch 1/20\n",
            "87/87 [==============================] - 1s 12ms/step - loss: 0.2363 - accuracy: 0.7538\n",
            "Epoch 2/20\n",
            "87/87 [==============================] - 1s 12ms/step - loss: 0.2398 - accuracy: 0.7602\n",
            "Epoch 3/20\n",
            "87/87 [==============================] - 1s 12ms/step - loss: 0.2398 - accuracy: 0.7602\n",
            "Epoch 4/20\n",
            "87/87 [==============================] - 1s 13ms/step - loss: 0.2397 - accuracy: 0.7602\n",
            "Epoch 5/20\n",
            "87/87 [==============================] - 1s 13ms/step - loss: 0.2397 - accuracy: 0.7602\n",
            "Epoch 6/20\n",
            "87/87 [==============================] - 1s 12ms/step - loss: 0.2397 - accuracy: 0.7602\n",
            "Epoch 7/20\n",
            "87/87 [==============================] - 1s 12ms/step - loss: 0.2392 - accuracy: 0.7602\n",
            "Epoch 8/20\n",
            "87/87 [==============================] - 1s 12ms/step - loss: 0.2263 - accuracy: 0.7602\n",
            "Epoch 9/20\n",
            "87/87 [==============================] - 1s 12ms/step - loss: 0.2388 - accuracy: 0.7602\n",
            "Epoch 10/20\n",
            "87/87 [==============================] - 1s 12ms/step - loss: 0.2381 - accuracy: 0.7544\n",
            "Epoch 11/20\n",
            "87/87 [==============================] - 1s 12ms/step - loss: 0.2346 - accuracy: 0.7602\n",
            "Epoch 12/20\n",
            "87/87 [==============================] - 1s 13ms/step - loss: 0.2333 - accuracy: 0.7535\n",
            "Epoch 13/20\n",
            "87/87 [==============================] - 1s 12ms/step - loss: 0.2398 - accuracy: 0.7602\n",
            "Epoch 14/20\n",
            "87/87 [==============================] - 1s 13ms/step - loss: 0.2397 - accuracy: 0.7602\n",
            "Epoch 15/20\n",
            "87/87 [==============================] - 1s 12ms/step - loss: 0.2397 - accuracy: 0.7602\n",
            "Epoch 16/20\n",
            "87/87 [==============================] - 1s 12ms/step - loss: 0.2397 - accuracy: 0.7602\n",
            "Epoch 17/20\n",
            "87/87 [==============================] - 1s 12ms/step - loss: 0.2397 - accuracy: 0.7602\n",
            "Epoch 18/20\n",
            "87/87 [==============================] - 1s 12ms/step - loss: 0.2393 - accuracy: 0.7602\n",
            "Epoch 19/20\n",
            "87/87 [==============================] - 1s 12ms/step - loss: 0.2201 - accuracy: 0.7538\n",
            "Epoch 20/20\n",
            "87/87 [==============================] - 1s 13ms/step - loss: 0.2384 - accuracy: 0.7602\n"
          ],
          "name": "stdout"
        },
        {
          "output_type": "execute_result",
          "data": {
            "text/plain": [
              "<tensorflow.python.keras.callbacks.History at 0x7f189da229e8>"
            ]
          },
          "metadata": {
            "tags": []
          },
          "execution_count": 90
        }
      ]
    },
    {
      "cell_type": "code",
      "metadata": {
        "id": "v72Wa_z67zqu"
      },
      "source": [
        "y_predict = model.predict(X_test_normalize)"
      ],
      "execution_count": 98,
      "outputs": []
    },
    {
      "cell_type": "code",
      "metadata": {
        "id": "dbVSEHY7SHDP",
        "colab": {
          "base_uri": "https://localhost:8080/"
        },
        "outputId": "18266d6b-05b9-47ff-e03c-cb5a8feaeb1c"
      },
      "source": [
        "from sklearn import metrics\n",
        "\n",
        "metrics.mean_squared_error(y_test_onehot,y_predict)\n",
        "print('RMSE：', np.sqrt(metrics.mean_squared_error(y_test_onehot,y_predict)))"
      ],
      "execution_count": 99,
      "outputs": [
        {
          "output_type": "stream",
          "text": [
            "RMSE： 0.43447194\n"
          ],
          "name": "stdout"
        }
      ]
    },
    {
      "cell_type": "code",
      "metadata": {
        "id": "LEXK02uK74aL",
        "colab": {
          "base_uri": "https://localhost:8080/"
        },
        "outputId": "6dca3581-bf36-4e49-f70b-919f0a7ece60"
      },
      "source": [
        "def mape(y_test_onehot, y_predict):\n",
        "    return np.mean(np.abs((y_predict - y_test_onehot) / (y_test_onehot +1))) * 100\n",
        "print('MAPE:',mape(y_test_onehot, y_predict))"
      ],
      "execution_count": 100,
      "outputs": [
        {
          "output_type": "stream",
          "text": [
            "MAPE: 25.337207317352295\n"
          ],
          "name": "stdout"
        }
      ]
    },
    {
      "cell_type": "code",
      "metadata": {
        "id": "pEZNBz-8LTvl"
      },
      "source": [
        ""
      ],
      "execution_count": null,
      "outputs": []
    }
  ]
}